{
 "cells": [
  {
   "cell_type": "code",
   "execution_count": 5,
   "metadata": {},
   "outputs": [],
   "source": [
    "import pandas as pd\n",
    "import numpy as np\n",
    "import matplotlib.pyplot as plt\n",
    "import seaborn as sns"
   ]
  },
  {
   "cell_type": "code",
   "execution_count": 6,
   "metadata": {},
   "outputs": [
    {
     "name": "stderr",
     "output_type": "stream",
     "text": [
      "C:\\Users\\aryan\\AppData\\Local\\Temp\\ipykernel_12180\\59533340.py:2: DtypeWarning: Columns (26) have mixed types. Specify dtype option on import or set low_memory=False.\n",
      "  df2 = pd.read_csv('train.csv')\n"
     ]
    }
   ],
   "source": [
    "df1 = pd.read_csv('test.csv')\n",
    "df2 = pd.read_csv('train.csv')"
   ]
  },
  {
   "cell_type": "code",
   "execution_count": 7,
   "metadata": {},
   "outputs": [
    {
     "data": {
      "text/html": [
       "<div>\n",
       "<style scoped>\n",
       "    .dataframe tbody tr th:only-of-type {\n",
       "        vertical-align: middle;\n",
       "    }\n",
       "\n",
       "    .dataframe tbody tr th {\n",
       "        vertical-align: top;\n",
       "    }\n",
       "\n",
       "    .dataframe thead th {\n",
       "        text-align: right;\n",
       "    }\n",
       "</style>\n",
       "<table border=\"1\" class=\"dataframe\">\n",
       "  <thead>\n",
       "    <tr style=\"text-align: right;\">\n",
       "      <th></th>\n",
       "      <th>ID</th>\n",
       "      <th>Customer_ID</th>\n",
       "      <th>Month</th>\n",
       "      <th>Name</th>\n",
       "      <th>Age</th>\n",
       "      <th>SSN</th>\n",
       "      <th>Occupation</th>\n",
       "      <th>Annual_Income</th>\n",
       "      <th>Monthly_Inhand_Salary</th>\n",
       "      <th>Num_Bank_Accounts</th>\n",
       "      <th>...</th>\n",
       "      <th>Num_Credit_Inquiries</th>\n",
       "      <th>Credit_Mix</th>\n",
       "      <th>Outstanding_Debt</th>\n",
       "      <th>Credit_Utilization_Ratio</th>\n",
       "      <th>Credit_History_Age</th>\n",
       "      <th>Payment_of_Min_Amount</th>\n",
       "      <th>Total_EMI_per_month</th>\n",
       "      <th>Amount_invested_monthly</th>\n",
       "      <th>Payment_Behaviour</th>\n",
       "      <th>Monthly_Balance</th>\n",
       "    </tr>\n",
       "  </thead>\n",
       "  <tbody>\n",
       "    <tr>\n",
       "      <th>0</th>\n",
       "      <td>0x160a</td>\n",
       "      <td>CUS_0xd40</td>\n",
       "      <td>September</td>\n",
       "      <td>Aaron Maashoh</td>\n",
       "      <td>23</td>\n",
       "      <td>821-00-0265</td>\n",
       "      <td>Scientist</td>\n",
       "      <td>19114.12</td>\n",
       "      <td>1824.843333</td>\n",
       "      <td>3</td>\n",
       "      <td>...</td>\n",
       "      <td>2022.0</td>\n",
       "      <td>Good</td>\n",
       "      <td>809.98</td>\n",
       "      <td>35.030402</td>\n",
       "      <td>22 Years and 9 Months</td>\n",
       "      <td>No</td>\n",
       "      <td>49.574949</td>\n",
       "      <td>236.64268203272135</td>\n",
       "      <td>Low_spent_Small_value_payments</td>\n",
       "      <td>186.26670208571772</td>\n",
       "    </tr>\n",
       "    <tr>\n",
       "      <th>1</th>\n",
       "      <td>0x160b</td>\n",
       "      <td>CUS_0xd40</td>\n",
       "      <td>October</td>\n",
       "      <td>Aaron Maashoh</td>\n",
       "      <td>24</td>\n",
       "      <td>821-00-0265</td>\n",
       "      <td>Scientist</td>\n",
       "      <td>19114.12</td>\n",
       "      <td>1824.843333</td>\n",
       "      <td>3</td>\n",
       "      <td>...</td>\n",
       "      <td>4.0</td>\n",
       "      <td>Good</td>\n",
       "      <td>809.98</td>\n",
       "      <td>33.053114</td>\n",
       "      <td>22 Years and 10 Months</td>\n",
       "      <td>No</td>\n",
       "      <td>49.574949</td>\n",
       "      <td>21.465380264657146</td>\n",
       "      <td>High_spent_Medium_value_payments</td>\n",
       "      <td>361.44400385378196</td>\n",
       "    </tr>\n",
       "    <tr>\n",
       "      <th>2</th>\n",
       "      <td>0x160c</td>\n",
       "      <td>CUS_0xd40</td>\n",
       "      <td>November</td>\n",
       "      <td>Aaron Maashoh</td>\n",
       "      <td>24</td>\n",
       "      <td>821-00-0265</td>\n",
       "      <td>Scientist</td>\n",
       "      <td>19114.12</td>\n",
       "      <td>1824.843333</td>\n",
       "      <td>3</td>\n",
       "      <td>...</td>\n",
       "      <td>4.0</td>\n",
       "      <td>Good</td>\n",
       "      <td>809.98</td>\n",
       "      <td>33.811894</td>\n",
       "      <td>NaN</td>\n",
       "      <td>No</td>\n",
       "      <td>49.574949</td>\n",
       "      <td>148.23393788500925</td>\n",
       "      <td>Low_spent_Medium_value_payments</td>\n",
       "      <td>264.67544623342997</td>\n",
       "    </tr>\n",
       "    <tr>\n",
       "      <th>3</th>\n",
       "      <td>0x160d</td>\n",
       "      <td>CUS_0xd40</td>\n",
       "      <td>December</td>\n",
       "      <td>Aaron Maashoh</td>\n",
       "      <td>24_</td>\n",
       "      <td>821-00-0265</td>\n",
       "      <td>Scientist</td>\n",
       "      <td>19114.12</td>\n",
       "      <td>NaN</td>\n",
       "      <td>3</td>\n",
       "      <td>...</td>\n",
       "      <td>4.0</td>\n",
       "      <td>Good</td>\n",
       "      <td>809.98</td>\n",
       "      <td>32.430559</td>\n",
       "      <td>23 Years and 0 Months</td>\n",
       "      <td>No</td>\n",
       "      <td>49.574949</td>\n",
       "      <td>39.08251089460281</td>\n",
       "      <td>High_spent_Medium_value_payments</td>\n",
       "      <td>343.82687322383634</td>\n",
       "    </tr>\n",
       "    <tr>\n",
       "      <th>4</th>\n",
       "      <td>0x1616</td>\n",
       "      <td>CUS_0x21b1</td>\n",
       "      <td>September</td>\n",
       "      <td>Rick Rothackerj</td>\n",
       "      <td>28</td>\n",
       "      <td>004-07-5839</td>\n",
       "      <td>_______</td>\n",
       "      <td>34847.84</td>\n",
       "      <td>3037.986667</td>\n",
       "      <td>2</td>\n",
       "      <td>...</td>\n",
       "      <td>5.0</td>\n",
       "      <td>Good</td>\n",
       "      <td>605.03</td>\n",
       "      <td>25.926822</td>\n",
       "      <td>27 Years and 3 Months</td>\n",
       "      <td>No</td>\n",
       "      <td>18.816215</td>\n",
       "      <td>39.684018417945296</td>\n",
       "      <td>High_spent_Large_value_payments</td>\n",
       "      <td>485.2984336755923</td>\n",
       "    </tr>\n",
       "  </tbody>\n",
       "</table>\n",
       "<p>5 rows × 27 columns</p>\n",
       "</div>"
      ],
      "text/plain": [
       "       ID Customer_ID      Month             Name  Age          SSN  \\\n",
       "0  0x160a   CUS_0xd40  September    Aaron Maashoh   23  821-00-0265   \n",
       "1  0x160b   CUS_0xd40    October    Aaron Maashoh   24  821-00-0265   \n",
       "2  0x160c   CUS_0xd40   November    Aaron Maashoh   24  821-00-0265   \n",
       "3  0x160d   CUS_0xd40   December    Aaron Maashoh  24_  821-00-0265   \n",
       "4  0x1616  CUS_0x21b1  September  Rick Rothackerj   28  004-07-5839   \n",
       "\n",
       "  Occupation Annual_Income  Monthly_Inhand_Salary  Num_Bank_Accounts  ...  \\\n",
       "0  Scientist      19114.12            1824.843333                  3  ...   \n",
       "1  Scientist      19114.12            1824.843333                  3  ...   \n",
       "2  Scientist      19114.12            1824.843333                  3  ...   \n",
       "3  Scientist      19114.12                    NaN                  3  ...   \n",
       "4    _______      34847.84            3037.986667                  2  ...   \n",
       "\n",
       "   Num_Credit_Inquiries  Credit_Mix Outstanding_Debt Credit_Utilization_Ratio  \\\n",
       "0                2022.0        Good           809.98                35.030402   \n",
       "1                   4.0        Good           809.98                33.053114   \n",
       "2                   4.0        Good           809.98                33.811894   \n",
       "3                   4.0        Good           809.98                32.430559   \n",
       "4                   5.0        Good           605.03                25.926822   \n",
       "\n",
       "       Credit_History_Age Payment_of_Min_Amount Total_EMI_per_month  \\\n",
       "0   22 Years and 9 Months                    No           49.574949   \n",
       "1  22 Years and 10 Months                    No           49.574949   \n",
       "2                     NaN                    No           49.574949   \n",
       "3   23 Years and 0 Months                    No           49.574949   \n",
       "4   27 Years and 3 Months                    No           18.816215   \n",
       "\n",
       "   Amount_invested_monthly                 Payment_Behaviour  \\\n",
       "0       236.64268203272135    Low_spent_Small_value_payments   \n",
       "1       21.465380264657146  High_spent_Medium_value_payments   \n",
       "2       148.23393788500925   Low_spent_Medium_value_payments   \n",
       "3        39.08251089460281  High_spent_Medium_value_payments   \n",
       "4       39.684018417945296   High_spent_Large_value_payments   \n",
       "\n",
       "      Monthly_Balance  \n",
       "0  186.26670208571772  \n",
       "1  361.44400385378196  \n",
       "2  264.67544623342997  \n",
       "3  343.82687322383634  \n",
       "4   485.2984336755923  \n",
       "\n",
       "[5 rows x 27 columns]"
      ]
     },
     "execution_count": 7,
     "metadata": {},
     "output_type": "execute_result"
    }
   ],
   "source": [
    "df1.head()"
   ]
  },
  {
   "cell_type": "code",
   "execution_count": 8,
   "metadata": {},
   "outputs": [
    {
     "data": {
      "text/html": [
       "<div>\n",
       "<style scoped>\n",
       "    .dataframe tbody tr th:only-of-type {\n",
       "        vertical-align: middle;\n",
       "    }\n",
       "\n",
       "    .dataframe tbody tr th {\n",
       "        vertical-align: top;\n",
       "    }\n",
       "\n",
       "    .dataframe thead th {\n",
       "        text-align: right;\n",
       "    }\n",
       "</style>\n",
       "<table border=\"1\" class=\"dataframe\">\n",
       "  <thead>\n",
       "    <tr style=\"text-align: right;\">\n",
       "      <th></th>\n",
       "      <th>ID</th>\n",
       "      <th>Customer_ID</th>\n",
       "      <th>Month</th>\n",
       "      <th>Name</th>\n",
       "      <th>Age</th>\n",
       "      <th>SSN</th>\n",
       "      <th>Occupation</th>\n",
       "      <th>Annual_Income</th>\n",
       "      <th>Monthly_Inhand_Salary</th>\n",
       "      <th>Num_Bank_Accounts</th>\n",
       "      <th>...</th>\n",
       "      <th>Credit_Mix</th>\n",
       "      <th>Outstanding_Debt</th>\n",
       "      <th>Credit_Utilization_Ratio</th>\n",
       "      <th>Credit_History_Age</th>\n",
       "      <th>Payment_of_Min_Amount</th>\n",
       "      <th>Total_EMI_per_month</th>\n",
       "      <th>Amount_invested_monthly</th>\n",
       "      <th>Payment_Behaviour</th>\n",
       "      <th>Monthly_Balance</th>\n",
       "      <th>Credit_Score</th>\n",
       "    </tr>\n",
       "  </thead>\n",
       "  <tbody>\n",
       "    <tr>\n",
       "      <th>0</th>\n",
       "      <td>0x1602</td>\n",
       "      <td>CUS_0xd40</td>\n",
       "      <td>January</td>\n",
       "      <td>Aaron Maashoh</td>\n",
       "      <td>23</td>\n",
       "      <td>821-00-0265</td>\n",
       "      <td>Scientist</td>\n",
       "      <td>19114.12</td>\n",
       "      <td>1824.843333</td>\n",
       "      <td>3</td>\n",
       "      <td>...</td>\n",
       "      <td>_</td>\n",
       "      <td>809.98</td>\n",
       "      <td>26.822620</td>\n",
       "      <td>22 Years and 1 Months</td>\n",
       "      <td>No</td>\n",
       "      <td>49.574949</td>\n",
       "      <td>80.41529543900253</td>\n",
       "      <td>High_spent_Small_value_payments</td>\n",
       "      <td>312.49408867943663</td>\n",
       "      <td>Good</td>\n",
       "    </tr>\n",
       "    <tr>\n",
       "      <th>1</th>\n",
       "      <td>0x1603</td>\n",
       "      <td>CUS_0xd40</td>\n",
       "      <td>February</td>\n",
       "      <td>Aaron Maashoh</td>\n",
       "      <td>23</td>\n",
       "      <td>821-00-0265</td>\n",
       "      <td>Scientist</td>\n",
       "      <td>19114.12</td>\n",
       "      <td>NaN</td>\n",
       "      <td>3</td>\n",
       "      <td>...</td>\n",
       "      <td>Good</td>\n",
       "      <td>809.98</td>\n",
       "      <td>31.944960</td>\n",
       "      <td>NaN</td>\n",
       "      <td>No</td>\n",
       "      <td>49.574949</td>\n",
       "      <td>118.28022162236736</td>\n",
       "      <td>Low_spent_Large_value_payments</td>\n",
       "      <td>284.62916249607184</td>\n",
       "      <td>Good</td>\n",
       "    </tr>\n",
       "    <tr>\n",
       "      <th>2</th>\n",
       "      <td>0x1604</td>\n",
       "      <td>CUS_0xd40</td>\n",
       "      <td>March</td>\n",
       "      <td>Aaron Maashoh</td>\n",
       "      <td>-500</td>\n",
       "      <td>821-00-0265</td>\n",
       "      <td>Scientist</td>\n",
       "      <td>19114.12</td>\n",
       "      <td>NaN</td>\n",
       "      <td>3</td>\n",
       "      <td>...</td>\n",
       "      <td>Good</td>\n",
       "      <td>809.98</td>\n",
       "      <td>28.609352</td>\n",
       "      <td>22 Years and 3 Months</td>\n",
       "      <td>No</td>\n",
       "      <td>49.574949</td>\n",
       "      <td>81.699521264648</td>\n",
       "      <td>Low_spent_Medium_value_payments</td>\n",
       "      <td>331.2098628537912</td>\n",
       "      <td>Good</td>\n",
       "    </tr>\n",
       "    <tr>\n",
       "      <th>3</th>\n",
       "      <td>0x1605</td>\n",
       "      <td>CUS_0xd40</td>\n",
       "      <td>April</td>\n",
       "      <td>Aaron Maashoh</td>\n",
       "      <td>23</td>\n",
       "      <td>821-00-0265</td>\n",
       "      <td>Scientist</td>\n",
       "      <td>19114.12</td>\n",
       "      <td>NaN</td>\n",
       "      <td>3</td>\n",
       "      <td>...</td>\n",
       "      <td>Good</td>\n",
       "      <td>809.98</td>\n",
       "      <td>31.377862</td>\n",
       "      <td>22 Years and 4 Months</td>\n",
       "      <td>No</td>\n",
       "      <td>49.574949</td>\n",
       "      <td>199.4580743910713</td>\n",
       "      <td>Low_spent_Small_value_payments</td>\n",
       "      <td>223.45130972736786</td>\n",
       "      <td>Good</td>\n",
       "    </tr>\n",
       "    <tr>\n",
       "      <th>4</th>\n",
       "      <td>0x1606</td>\n",
       "      <td>CUS_0xd40</td>\n",
       "      <td>May</td>\n",
       "      <td>Aaron Maashoh</td>\n",
       "      <td>23</td>\n",
       "      <td>821-00-0265</td>\n",
       "      <td>Scientist</td>\n",
       "      <td>19114.12</td>\n",
       "      <td>1824.843333</td>\n",
       "      <td>3</td>\n",
       "      <td>...</td>\n",
       "      <td>Good</td>\n",
       "      <td>809.98</td>\n",
       "      <td>24.797347</td>\n",
       "      <td>22 Years and 5 Months</td>\n",
       "      <td>No</td>\n",
       "      <td>49.574949</td>\n",
       "      <td>41.420153086217326</td>\n",
       "      <td>High_spent_Medium_value_payments</td>\n",
       "      <td>341.48923103222177</td>\n",
       "      <td>Good</td>\n",
       "    </tr>\n",
       "  </tbody>\n",
       "</table>\n",
       "<p>5 rows × 28 columns</p>\n",
       "</div>"
      ],
      "text/plain": [
       "       ID Customer_ID     Month           Name   Age          SSN Occupation  \\\n",
       "0  0x1602   CUS_0xd40   January  Aaron Maashoh    23  821-00-0265  Scientist   \n",
       "1  0x1603   CUS_0xd40  February  Aaron Maashoh    23  821-00-0265  Scientist   \n",
       "2  0x1604   CUS_0xd40     March  Aaron Maashoh  -500  821-00-0265  Scientist   \n",
       "3  0x1605   CUS_0xd40     April  Aaron Maashoh    23  821-00-0265  Scientist   \n",
       "4  0x1606   CUS_0xd40       May  Aaron Maashoh    23  821-00-0265  Scientist   \n",
       "\n",
       "  Annual_Income  Monthly_Inhand_Salary  Num_Bank_Accounts  ...  Credit_Mix  \\\n",
       "0      19114.12            1824.843333                  3  ...           _   \n",
       "1      19114.12                    NaN                  3  ...        Good   \n",
       "2      19114.12                    NaN                  3  ...        Good   \n",
       "3      19114.12                    NaN                  3  ...        Good   \n",
       "4      19114.12            1824.843333                  3  ...        Good   \n",
       "\n",
       "   Outstanding_Debt Credit_Utilization_Ratio     Credit_History_Age  \\\n",
       "0            809.98                26.822620  22 Years and 1 Months   \n",
       "1            809.98                31.944960                    NaN   \n",
       "2            809.98                28.609352  22 Years and 3 Months   \n",
       "3            809.98                31.377862  22 Years and 4 Months   \n",
       "4            809.98                24.797347  22 Years and 5 Months   \n",
       "\n",
       "   Payment_of_Min_Amount Total_EMI_per_month Amount_invested_monthly  \\\n",
       "0                     No           49.574949       80.41529543900253   \n",
       "1                     No           49.574949      118.28022162236736   \n",
       "2                     No           49.574949         81.699521264648   \n",
       "3                     No           49.574949       199.4580743910713   \n",
       "4                     No           49.574949      41.420153086217326   \n",
       "\n",
       "                  Payment_Behaviour     Monthly_Balance Credit_Score  \n",
       "0   High_spent_Small_value_payments  312.49408867943663         Good  \n",
       "1    Low_spent_Large_value_payments  284.62916249607184         Good  \n",
       "2   Low_spent_Medium_value_payments   331.2098628537912         Good  \n",
       "3    Low_spent_Small_value_payments  223.45130972736786         Good  \n",
       "4  High_spent_Medium_value_payments  341.48923103222177         Good  \n",
       "\n",
       "[5 rows x 28 columns]"
      ]
     },
     "execution_count": 8,
     "metadata": {},
     "output_type": "execute_result"
    }
   ],
   "source": [
    "df2.head()"
   ]
  },
  {
   "cell_type": "code",
   "execution_count": 9,
   "metadata": {},
   "outputs": [],
   "source": [
    "df = pd.concat([df2,df1])"
   ]
  },
  {
   "cell_type": "code",
   "execution_count": 10,
   "metadata": {},
   "outputs": [
    {
     "data": {
      "text/html": [
       "<div>\n",
       "<style scoped>\n",
       "    .dataframe tbody tr th:only-of-type {\n",
       "        vertical-align: middle;\n",
       "    }\n",
       "\n",
       "    .dataframe tbody tr th {\n",
       "        vertical-align: top;\n",
       "    }\n",
       "\n",
       "    .dataframe thead th {\n",
       "        text-align: right;\n",
       "    }\n",
       "</style>\n",
       "<table border=\"1\" class=\"dataframe\">\n",
       "  <thead>\n",
       "    <tr style=\"text-align: right;\">\n",
       "      <th></th>\n",
       "      <th>ID</th>\n",
       "      <th>Customer_ID</th>\n",
       "      <th>Month</th>\n",
       "      <th>Name</th>\n",
       "      <th>Age</th>\n",
       "      <th>SSN</th>\n",
       "      <th>Occupation</th>\n",
       "      <th>Annual_Income</th>\n",
       "      <th>Monthly_Inhand_Salary</th>\n",
       "      <th>Num_Bank_Accounts</th>\n",
       "      <th>...</th>\n",
       "      <th>Credit_Mix</th>\n",
       "      <th>Outstanding_Debt</th>\n",
       "      <th>Credit_Utilization_Ratio</th>\n",
       "      <th>Credit_History_Age</th>\n",
       "      <th>Payment_of_Min_Amount</th>\n",
       "      <th>Total_EMI_per_month</th>\n",
       "      <th>Amount_invested_monthly</th>\n",
       "      <th>Payment_Behaviour</th>\n",
       "      <th>Monthly_Balance</th>\n",
       "      <th>Credit_Score</th>\n",
       "    </tr>\n",
       "  </thead>\n",
       "  <tbody>\n",
       "    <tr>\n",
       "      <th>0</th>\n",
       "      <td>0x1602</td>\n",
       "      <td>CUS_0xd40</td>\n",
       "      <td>January</td>\n",
       "      <td>Aaron Maashoh</td>\n",
       "      <td>23</td>\n",
       "      <td>821-00-0265</td>\n",
       "      <td>Scientist</td>\n",
       "      <td>19114.12</td>\n",
       "      <td>1824.843333</td>\n",
       "      <td>3</td>\n",
       "      <td>...</td>\n",
       "      <td>_</td>\n",
       "      <td>809.98</td>\n",
       "      <td>26.822620</td>\n",
       "      <td>22 Years and 1 Months</td>\n",
       "      <td>No</td>\n",
       "      <td>49.574949</td>\n",
       "      <td>80.41529543900253</td>\n",
       "      <td>High_spent_Small_value_payments</td>\n",
       "      <td>312.49408867943663</td>\n",
       "      <td>Good</td>\n",
       "    </tr>\n",
       "    <tr>\n",
       "      <th>1</th>\n",
       "      <td>0x1603</td>\n",
       "      <td>CUS_0xd40</td>\n",
       "      <td>February</td>\n",
       "      <td>Aaron Maashoh</td>\n",
       "      <td>23</td>\n",
       "      <td>821-00-0265</td>\n",
       "      <td>Scientist</td>\n",
       "      <td>19114.12</td>\n",
       "      <td>NaN</td>\n",
       "      <td>3</td>\n",
       "      <td>...</td>\n",
       "      <td>Good</td>\n",
       "      <td>809.98</td>\n",
       "      <td>31.944960</td>\n",
       "      <td>NaN</td>\n",
       "      <td>No</td>\n",
       "      <td>49.574949</td>\n",
       "      <td>118.28022162236736</td>\n",
       "      <td>Low_spent_Large_value_payments</td>\n",
       "      <td>284.62916249607184</td>\n",
       "      <td>Good</td>\n",
       "    </tr>\n",
       "    <tr>\n",
       "      <th>2</th>\n",
       "      <td>0x1604</td>\n",
       "      <td>CUS_0xd40</td>\n",
       "      <td>March</td>\n",
       "      <td>Aaron Maashoh</td>\n",
       "      <td>-500</td>\n",
       "      <td>821-00-0265</td>\n",
       "      <td>Scientist</td>\n",
       "      <td>19114.12</td>\n",
       "      <td>NaN</td>\n",
       "      <td>3</td>\n",
       "      <td>...</td>\n",
       "      <td>Good</td>\n",
       "      <td>809.98</td>\n",
       "      <td>28.609352</td>\n",
       "      <td>22 Years and 3 Months</td>\n",
       "      <td>No</td>\n",
       "      <td>49.574949</td>\n",
       "      <td>81.699521264648</td>\n",
       "      <td>Low_spent_Medium_value_payments</td>\n",
       "      <td>331.2098628537912</td>\n",
       "      <td>Good</td>\n",
       "    </tr>\n",
       "    <tr>\n",
       "      <th>3</th>\n",
       "      <td>0x1605</td>\n",
       "      <td>CUS_0xd40</td>\n",
       "      <td>April</td>\n",
       "      <td>Aaron Maashoh</td>\n",
       "      <td>23</td>\n",
       "      <td>821-00-0265</td>\n",
       "      <td>Scientist</td>\n",
       "      <td>19114.12</td>\n",
       "      <td>NaN</td>\n",
       "      <td>3</td>\n",
       "      <td>...</td>\n",
       "      <td>Good</td>\n",
       "      <td>809.98</td>\n",
       "      <td>31.377862</td>\n",
       "      <td>22 Years and 4 Months</td>\n",
       "      <td>No</td>\n",
       "      <td>49.574949</td>\n",
       "      <td>199.4580743910713</td>\n",
       "      <td>Low_spent_Small_value_payments</td>\n",
       "      <td>223.45130972736786</td>\n",
       "      <td>Good</td>\n",
       "    </tr>\n",
       "    <tr>\n",
       "      <th>4</th>\n",
       "      <td>0x1606</td>\n",
       "      <td>CUS_0xd40</td>\n",
       "      <td>May</td>\n",
       "      <td>Aaron Maashoh</td>\n",
       "      <td>23</td>\n",
       "      <td>821-00-0265</td>\n",
       "      <td>Scientist</td>\n",
       "      <td>19114.12</td>\n",
       "      <td>1824.843333</td>\n",
       "      <td>3</td>\n",
       "      <td>...</td>\n",
       "      <td>Good</td>\n",
       "      <td>809.98</td>\n",
       "      <td>24.797347</td>\n",
       "      <td>22 Years and 5 Months</td>\n",
       "      <td>No</td>\n",
       "      <td>49.574949</td>\n",
       "      <td>41.420153086217326</td>\n",
       "      <td>High_spent_Medium_value_payments</td>\n",
       "      <td>341.48923103222177</td>\n",
       "      <td>Good</td>\n",
       "    </tr>\n",
       "  </tbody>\n",
       "</table>\n",
       "<p>5 rows × 28 columns</p>\n",
       "</div>"
      ],
      "text/plain": [
       "       ID Customer_ID     Month           Name   Age          SSN Occupation  \\\n",
       "0  0x1602   CUS_0xd40   January  Aaron Maashoh    23  821-00-0265  Scientist   \n",
       "1  0x1603   CUS_0xd40  February  Aaron Maashoh    23  821-00-0265  Scientist   \n",
       "2  0x1604   CUS_0xd40     March  Aaron Maashoh  -500  821-00-0265  Scientist   \n",
       "3  0x1605   CUS_0xd40     April  Aaron Maashoh    23  821-00-0265  Scientist   \n",
       "4  0x1606   CUS_0xd40       May  Aaron Maashoh    23  821-00-0265  Scientist   \n",
       "\n",
       "  Annual_Income  Monthly_Inhand_Salary  Num_Bank_Accounts  ...  Credit_Mix  \\\n",
       "0      19114.12            1824.843333                  3  ...           _   \n",
       "1      19114.12                    NaN                  3  ...        Good   \n",
       "2      19114.12                    NaN                  3  ...        Good   \n",
       "3      19114.12                    NaN                  3  ...        Good   \n",
       "4      19114.12            1824.843333                  3  ...        Good   \n",
       "\n",
       "   Outstanding_Debt Credit_Utilization_Ratio     Credit_History_Age  \\\n",
       "0            809.98                26.822620  22 Years and 1 Months   \n",
       "1            809.98                31.944960                    NaN   \n",
       "2            809.98                28.609352  22 Years and 3 Months   \n",
       "3            809.98                31.377862  22 Years and 4 Months   \n",
       "4            809.98                24.797347  22 Years and 5 Months   \n",
       "\n",
       "   Payment_of_Min_Amount Total_EMI_per_month Amount_invested_monthly  \\\n",
       "0                     No           49.574949       80.41529543900253   \n",
       "1                     No           49.574949      118.28022162236736   \n",
       "2                     No           49.574949         81.699521264648   \n",
       "3                     No           49.574949       199.4580743910713   \n",
       "4                     No           49.574949      41.420153086217326   \n",
       "\n",
       "                  Payment_Behaviour     Monthly_Balance Credit_Score  \n",
       "0   High_spent_Small_value_payments  312.49408867943663         Good  \n",
       "1    Low_spent_Large_value_payments  284.62916249607184         Good  \n",
       "2   Low_spent_Medium_value_payments   331.2098628537912         Good  \n",
       "3    Low_spent_Small_value_payments  223.45130972736786         Good  \n",
       "4  High_spent_Medium_value_payments  341.48923103222177         Good  \n",
       "\n",
       "[5 rows x 28 columns]"
      ]
     },
     "execution_count": 10,
     "metadata": {},
     "output_type": "execute_result"
    }
   ],
   "source": [
    "df.head()"
   ]
  },
  {
   "cell_type": "code",
   "execution_count": 11,
   "metadata": {},
   "outputs": [
    {
     "name": "stdout",
     "output_type": "stream",
     "text": [
      "<class 'pandas.core.frame.DataFrame'>\n",
      "Index: 150000 entries, 0 to 49999\n",
      "Data columns (total 28 columns):\n",
      " #   Column                    Non-Null Count   Dtype  \n",
      "---  ------                    --------------   -----  \n",
      " 0   ID                        150000 non-null  object \n",
      " 1   Customer_ID               150000 non-null  object \n",
      " 2   Month                     150000 non-null  object \n",
      " 3   Name                      135000 non-null  object \n",
      " 4   Age                       150000 non-null  object \n",
      " 5   SSN                       150000 non-null  object \n",
      " 6   Occupation                150000 non-null  object \n",
      " 7   Annual_Income             150000 non-null  object \n",
      " 8   Monthly_Inhand_Salary     127500 non-null  float64\n",
      " 9   Num_Bank_Accounts         150000 non-null  int64  \n",
      " 10  Num_Credit_Card           150000 non-null  int64  \n",
      " 11  Interest_Rate             150000 non-null  int64  \n",
      " 12  Num_of_Loan               150000 non-null  object \n",
      " 13  Type_of_Loan              132888 non-null  object \n",
      " 14  Delay_from_due_date       150000 non-null  int64  \n",
      " 15  Num_of_Delayed_Payment    139500 non-null  object \n",
      " 16  Changed_Credit_Limit      150000 non-null  object \n",
      " 17  Num_Credit_Inquiries      147000 non-null  float64\n",
      " 18  Credit_Mix                150000 non-null  object \n",
      " 19  Outstanding_Debt          150000 non-null  object \n",
      " 20  Credit_Utilization_Ratio  150000 non-null  float64\n",
      " 21  Credit_History_Age        136500 non-null  object \n",
      " 22  Payment_of_Min_Amount     150000 non-null  object \n",
      " 23  Total_EMI_per_month       150000 non-null  float64\n",
      " 24  Amount_invested_monthly   143250 non-null  object \n",
      " 25  Payment_Behaviour         150000 non-null  object \n",
      " 26  Monthly_Balance           148238 non-null  object \n",
      " 27  Credit_Score              100000 non-null  object \n",
      "dtypes: float64(4), int64(4), object(20)\n",
      "memory usage: 33.2+ MB\n"
     ]
    }
   ],
   "source": [
    "df.info(\n",
    ")"
   ]
  },
  {
   "cell_type": "code",
   "execution_count": 12,
   "metadata": {},
   "outputs": [
    {
     "data": {
      "text/html": [
       "<div>\n",
       "<style scoped>\n",
       "    .dataframe tbody tr th:only-of-type {\n",
       "        vertical-align: middle;\n",
       "    }\n",
       "\n",
       "    .dataframe tbody tr th {\n",
       "        vertical-align: top;\n",
       "    }\n",
       "\n",
       "    .dataframe thead th {\n",
       "        text-align: right;\n",
       "    }\n",
       "</style>\n",
       "<table border=\"1\" class=\"dataframe\">\n",
       "  <thead>\n",
       "    <tr style=\"text-align: right;\">\n",
       "      <th></th>\n",
       "      <th>Monthly_Inhand_Salary</th>\n",
       "      <th>Num_Bank_Accounts</th>\n",
       "      <th>Num_Credit_Card</th>\n",
       "      <th>Interest_Rate</th>\n",
       "      <th>Delay_from_due_date</th>\n",
       "      <th>Num_Credit_Inquiries</th>\n",
       "      <th>Credit_Utilization_Ratio</th>\n",
       "      <th>Total_EMI_per_month</th>\n",
       "    </tr>\n",
       "  </thead>\n",
       "  <tbody>\n",
       "    <tr>\n",
       "      <th>count</th>\n",
       "      <td>127500.000000</td>\n",
       "      <td>150000.000000</td>\n",
       "      <td>150000.000000</td>\n",
       "      <td>150000.000000</td>\n",
       "      <td>150000.000000</td>\n",
       "      <td>147000.000000</td>\n",
       "      <td>150000.000000</td>\n",
       "      <td>150000.000000</td>\n",
       "    </tr>\n",
       "    <tr>\n",
       "      <th>mean</th>\n",
       "      <td>4190.115139</td>\n",
       "      <td>17.006940</td>\n",
       "      <td>22.623447</td>\n",
       "      <td>71.234907</td>\n",
       "      <td>21.063400</td>\n",
       "      <td>28.529014</td>\n",
       "      <td>32.283309</td>\n",
       "      <td>1432.513579</td>\n",
       "    </tr>\n",
       "    <tr>\n",
       "      <th>std</th>\n",
       "      <td>3180.489657</td>\n",
       "      <td>117.069476</td>\n",
       "      <td>129.143006</td>\n",
       "      <td>461.537193</td>\n",
       "      <td>14.860154</td>\n",
       "      <td>194.456058</td>\n",
       "      <td>5.113315</td>\n",
       "      <td>8403.759977</td>\n",
       "    </tr>\n",
       "    <tr>\n",
       "      <th>min</th>\n",
       "      <td>303.645417</td>\n",
       "      <td>-1.000000</td>\n",
       "      <td>0.000000</td>\n",
       "      <td>1.000000</td>\n",
       "      <td>-5.000000</td>\n",
       "      <td>0.000000</td>\n",
       "      <td>20.000000</td>\n",
       "      <td>0.000000</td>\n",
       "    </tr>\n",
       "    <tr>\n",
       "      <th>25%</th>\n",
       "      <td>1625.265833</td>\n",
       "      <td>3.000000</td>\n",
       "      <td>4.000000</td>\n",
       "      <td>8.000000</td>\n",
       "      <td>10.000000</td>\n",
       "      <td>3.000000</td>\n",
       "      <td>28.054731</td>\n",
       "      <td>30.947775</td>\n",
       "    </tr>\n",
       "    <tr>\n",
       "      <th>50%</th>\n",
       "      <td>3091.000000</td>\n",
       "      <td>6.000000</td>\n",
       "      <td>5.000000</td>\n",
       "      <td>13.000000</td>\n",
       "      <td>18.000000</td>\n",
       "      <td>6.000000</td>\n",
       "      <td>32.297058</td>\n",
       "      <td>71.280006</td>\n",
       "    </tr>\n",
       "    <tr>\n",
       "      <th>75%</th>\n",
       "      <td>5948.454596</td>\n",
       "      <td>7.000000</td>\n",
       "      <td>7.000000</td>\n",
       "      <td>20.000000</td>\n",
       "      <td>28.000000</td>\n",
       "      <td>9.000000</td>\n",
       "      <td>36.487954</td>\n",
       "      <td>166.279555</td>\n",
       "    </tr>\n",
       "    <tr>\n",
       "      <th>max</th>\n",
       "      <td>15204.633333</td>\n",
       "      <td>1798.000000</td>\n",
       "      <td>1499.000000</td>\n",
       "      <td>5799.000000</td>\n",
       "      <td>67.000000</td>\n",
       "      <td>2597.000000</td>\n",
       "      <td>50.000000</td>\n",
       "      <td>82398.000000</td>\n",
       "    </tr>\n",
       "  </tbody>\n",
       "</table>\n",
       "</div>"
      ],
      "text/plain": [
       "       Monthly_Inhand_Salary  Num_Bank_Accounts  Num_Credit_Card  \\\n",
       "count          127500.000000      150000.000000    150000.000000   \n",
       "mean             4190.115139          17.006940        22.623447   \n",
       "std              3180.489657         117.069476       129.143006   \n",
       "min               303.645417          -1.000000         0.000000   \n",
       "25%              1625.265833           3.000000         4.000000   \n",
       "50%              3091.000000           6.000000         5.000000   \n",
       "75%              5948.454596           7.000000         7.000000   \n",
       "max             15204.633333        1798.000000      1499.000000   \n",
       "\n",
       "       Interest_Rate  Delay_from_due_date  Num_Credit_Inquiries  \\\n",
       "count  150000.000000        150000.000000         147000.000000   \n",
       "mean       71.234907            21.063400             28.529014   \n",
       "std       461.537193            14.860154            194.456058   \n",
       "min         1.000000            -5.000000              0.000000   \n",
       "25%         8.000000            10.000000              3.000000   \n",
       "50%        13.000000            18.000000              6.000000   \n",
       "75%        20.000000            28.000000              9.000000   \n",
       "max      5799.000000            67.000000           2597.000000   \n",
       "\n",
       "       Credit_Utilization_Ratio  Total_EMI_per_month  \n",
       "count             150000.000000        150000.000000  \n",
       "mean                  32.283309          1432.513579  \n",
       "std                    5.113315          8403.759977  \n",
       "min                   20.000000             0.000000  \n",
       "25%                   28.054731            30.947775  \n",
       "50%                   32.297058            71.280006  \n",
       "75%                   36.487954           166.279555  \n",
       "max                   50.000000         82398.000000  "
      ]
     },
     "execution_count": 12,
     "metadata": {},
     "output_type": "execute_result"
    }
   ],
   "source": [
    "df.describe()"
   ]
  },
  {
   "cell_type": "code",
   "execution_count": 13,
   "metadata": {},
   "outputs": [
    {
     "data": {
      "text/plain": [
       "ID                              0\n",
       "Customer_ID                     0\n",
       "Month                           0\n",
       "Name                        15000\n",
       "Age                             0\n",
       "SSN                             0\n",
       "Occupation                      0\n",
       "Annual_Income                   0\n",
       "Monthly_Inhand_Salary       22500\n",
       "Num_Bank_Accounts               0\n",
       "Num_Credit_Card                 0\n",
       "Interest_Rate                   0\n",
       "Num_of_Loan                     0\n",
       "Type_of_Loan                17112\n",
       "Delay_from_due_date             0\n",
       "Num_of_Delayed_Payment      10500\n",
       "Changed_Credit_Limit            0\n",
       "Num_Credit_Inquiries         3000\n",
       "Credit_Mix                      0\n",
       "Outstanding_Debt                0\n",
       "Credit_Utilization_Ratio        0\n",
       "Credit_History_Age          13500\n",
       "Payment_of_Min_Amount           0\n",
       "Total_EMI_per_month             0\n",
       "Amount_invested_monthly      6750\n",
       "Payment_Behaviour               0\n",
       "Monthly_Balance              1762\n",
       "Credit_Score                50000\n",
       "dtype: int64"
      ]
     },
     "execution_count": 13,
     "metadata": {},
     "output_type": "execute_result"
    }
   ],
   "source": [
    "df.isnull().sum()"
   ]
  },
  {
   "cell_type": "code",
   "execution_count": 14,
   "metadata": {},
   "outputs": [
    {
     "data": {
      "text/plain": [
       "(150000, 28)"
      ]
     },
     "execution_count": 14,
     "metadata": {},
     "output_type": "execute_result"
    }
   ],
   "source": [
    "df.shape"
   ]
  },
  {
   "cell_type": "code",
   "execution_count": 15,
   "metadata": {},
   "outputs": [],
   "source": [
    "df.drop('Name',axis='columns',inplace=True)"
   ]
  },
  {
   "cell_type": "code",
   "execution_count": 16,
   "metadata": {},
   "outputs": [],
   "source": [
    "df.columns = df.columns.str.strip()"
   ]
  },
  {
   "cell_type": "code",
   "execution_count": 17,
   "metadata": {},
   "outputs": [],
   "source": [
    "df.dropna(subset=['Credit_Score'], inplace=True)"
   ]
  },
  {
   "cell_type": "code",
   "execution_count": 18,
   "metadata": {},
   "outputs": [
    {
     "data": {
      "text/plain": [
       "ID                              0\n",
       "Customer_ID                     0\n",
       "Month                           0\n",
       "Age                             0\n",
       "SSN                             0\n",
       "Occupation                      0\n",
       "Annual_Income                   0\n",
       "Monthly_Inhand_Salary       15002\n",
       "Num_Bank_Accounts               0\n",
       "Num_Credit_Card                 0\n",
       "Interest_Rate                   0\n",
       "Num_of_Loan                     0\n",
       "Type_of_Loan                11408\n",
       "Delay_from_due_date             0\n",
       "Num_of_Delayed_Payment       7002\n",
       "Changed_Credit_Limit            0\n",
       "Num_Credit_Inquiries         1965\n",
       "Credit_Mix                      0\n",
       "Outstanding_Debt                0\n",
       "Credit_Utilization_Ratio        0\n",
       "Credit_History_Age           9030\n",
       "Payment_of_Min_Amount           0\n",
       "Total_EMI_per_month             0\n",
       "Amount_invested_monthly      4479\n",
       "Payment_Behaviour               0\n",
       "Monthly_Balance              1200\n",
       "Credit_Score                    0\n",
       "dtype: int64"
      ]
     },
     "execution_count": 18,
     "metadata": {},
     "output_type": "execute_result"
    }
   ],
   "source": [
    "df.isnull().sum()"
   ]
  },
  {
   "cell_type": "code",
   "execution_count": 19,
   "metadata": {},
   "outputs": [
    {
     "name": "stdout",
     "output_type": "stream",
     "text": [
      "<class 'pandas.core.frame.DataFrame'>\n",
      "Index: 100000 entries, 0 to 99999\n",
      "Data columns (total 27 columns):\n",
      " #   Column                    Non-Null Count   Dtype  \n",
      "---  ------                    --------------   -----  \n",
      " 0   ID                        100000 non-null  object \n",
      " 1   Customer_ID               100000 non-null  object \n",
      " 2   Month                     100000 non-null  object \n",
      " 3   Age                       100000 non-null  object \n",
      " 4   SSN                       100000 non-null  object \n",
      " 5   Occupation                100000 non-null  object \n",
      " 6   Annual_Income             100000 non-null  object \n",
      " 7   Monthly_Inhand_Salary     84998 non-null   float64\n",
      " 8   Num_Bank_Accounts         100000 non-null  int64  \n",
      " 9   Num_Credit_Card           100000 non-null  int64  \n",
      " 10  Interest_Rate             100000 non-null  int64  \n",
      " 11  Num_of_Loan               100000 non-null  object \n",
      " 12  Type_of_Loan              88592 non-null   object \n",
      " 13  Delay_from_due_date       100000 non-null  int64  \n",
      " 14  Num_of_Delayed_Payment    92998 non-null   object \n",
      " 15  Changed_Credit_Limit      100000 non-null  object \n",
      " 16  Num_Credit_Inquiries      98035 non-null   float64\n",
      " 17  Credit_Mix                100000 non-null  object \n",
      " 18  Outstanding_Debt          100000 non-null  object \n",
      " 19  Credit_Utilization_Ratio  100000 non-null  float64\n",
      " 20  Credit_History_Age        90970 non-null   object \n",
      " 21  Payment_of_Min_Amount     100000 non-null  object \n",
      " 22  Total_EMI_per_month       100000 non-null  float64\n",
      " 23  Amount_invested_monthly   95521 non-null   object \n",
      " 24  Payment_Behaviour         100000 non-null  object \n",
      " 25  Monthly_Balance           98800 non-null   object \n",
      " 26  Credit_Score              100000 non-null  object \n",
      "dtypes: float64(4), int64(4), object(19)\n",
      "memory usage: 21.4+ MB\n"
     ]
    }
   ],
   "source": [
    "df.info()"
   ]
  },
  {
   "cell_type": "code",
   "execution_count": 20,
   "metadata": {},
   "outputs": [],
   "source": [
    "df.dropna(subset=['Type_of_Loan'],inplace=True)"
   ]
  },
  {
   "cell_type": "code",
   "execution_count": 21,
   "metadata": {},
   "outputs": [
    {
     "data": {
      "text/plain": [
       "ID                              0\n",
       "Customer_ID                     0\n",
       "Month                           0\n",
       "Age                             0\n",
       "SSN                             0\n",
       "Occupation                      0\n",
       "Annual_Income                   0\n",
       "Monthly_Inhand_Salary       13228\n",
       "Num_Bank_Accounts               0\n",
       "Num_Credit_Card                 0\n",
       "Interest_Rate                   0\n",
       "Num_of_Loan                     0\n",
       "Type_of_Loan                    0\n",
       "Delay_from_due_date             0\n",
       "Num_of_Delayed_Payment       6171\n",
       "Changed_Credit_Limit            0\n",
       "Num_Credit_Inquiries         1739\n",
       "Credit_Mix                      0\n",
       "Outstanding_Debt                0\n",
       "Credit_Utilization_Ratio        0\n",
       "Credit_History_Age           8035\n",
       "Payment_of_Min_Amount           0\n",
       "Total_EMI_per_month             0\n",
       "Amount_invested_monthly      3970\n",
       "Payment_Behaviour               0\n",
       "Monthly_Balance              1181\n",
       "Credit_Score                    0\n",
       "dtype: int64"
      ]
     },
     "execution_count": 21,
     "metadata": {},
     "output_type": "execute_result"
    }
   ],
   "source": [
    "df.isnull().sum()"
   ]
  },
  {
   "cell_type": "code",
   "execution_count": 22,
   "metadata": {},
   "outputs": [
    {
     "name": "stderr",
     "output_type": "stream",
     "text": [
      "C:\\Users\\aryan\\AppData\\Local\\Temp\\ipykernel_12180\\704006292.py:1: FutureWarning: A value is trying to be set on a copy of a DataFrame or Series through chained assignment using an inplace method.\n",
      "The behavior will change in pandas 3.0. This inplace method will never work because the intermediate object on which we are setting values always behaves as a copy.\n",
      "\n",
      "For example, when doing 'df[col].method(value, inplace=True)', try using 'df.method({col: value}, inplace=True)' or df[col] = df[col].method(value) instead, to perform the operation inplace on the original object.\n",
      "\n",
      "\n",
      "  df['Monthly_Inhand_Salary'].fillna(value=df['Monthly_Inhand_Salary'].mean(),inplace=True)\n"
     ]
    }
   ],
   "source": [
    "df['Monthly_Inhand_Salary'].fillna(value=df['Monthly_Inhand_Salary'].mean(),inplace=True)"
   ]
  },
  {
   "cell_type": "code",
   "execution_count": 23,
   "metadata": {},
   "outputs": [
    {
     "data": {
      "text/plain": [
       "ID                             0\n",
       "Customer_ID                    0\n",
       "Month                          0\n",
       "Age                            0\n",
       "SSN                            0\n",
       "Occupation                     0\n",
       "Annual_Income                  0\n",
       "Monthly_Inhand_Salary          0\n",
       "Num_Bank_Accounts              0\n",
       "Num_Credit_Card                0\n",
       "Interest_Rate                  0\n",
       "Num_of_Loan                    0\n",
       "Type_of_Loan                   0\n",
       "Delay_from_due_date            0\n",
       "Num_of_Delayed_Payment      6171\n",
       "Changed_Credit_Limit           0\n",
       "Num_Credit_Inquiries        1739\n",
       "Credit_Mix                     0\n",
       "Outstanding_Debt               0\n",
       "Credit_Utilization_Ratio       0\n",
       "Credit_History_Age          8035\n",
       "Payment_of_Min_Amount          0\n",
       "Total_EMI_per_month            0\n",
       "Amount_invested_monthly     3970\n",
       "Payment_Behaviour              0\n",
       "Monthly_Balance             1181\n",
       "Credit_Score                   0\n",
       "dtype: int64"
      ]
     },
     "execution_count": 23,
     "metadata": {},
     "output_type": "execute_result"
    }
   ],
   "source": [
    "df.isnull().sum()"
   ]
  },
  {
   "cell_type": "code",
   "execution_count": 24,
   "metadata": {},
   "outputs": [
    {
     "name": "stdout",
     "output_type": "stream",
     "text": [
      "<class 'pandas.core.frame.DataFrame'>\n",
      "Index: 88592 entries, 0 to 99999\n",
      "Data columns (total 27 columns):\n",
      " #   Column                    Non-Null Count  Dtype  \n",
      "---  ------                    --------------  -----  \n",
      " 0   ID                        88592 non-null  object \n",
      " 1   Customer_ID               88592 non-null  object \n",
      " 2   Month                     88592 non-null  object \n",
      " 3   Age                       88592 non-null  object \n",
      " 4   SSN                       88592 non-null  object \n",
      " 5   Occupation                88592 non-null  object \n",
      " 6   Annual_Income             88592 non-null  object \n",
      " 7   Monthly_Inhand_Salary     88592 non-null  float64\n",
      " 8   Num_Bank_Accounts         88592 non-null  int64  \n",
      " 9   Num_Credit_Card           88592 non-null  int64  \n",
      " 10  Interest_Rate             88592 non-null  int64  \n",
      " 11  Num_of_Loan               88592 non-null  object \n",
      " 12  Type_of_Loan              88592 non-null  object \n",
      " 13  Delay_from_due_date       88592 non-null  int64  \n",
      " 14  Num_of_Delayed_Payment    82421 non-null  object \n",
      " 15  Changed_Credit_Limit      88592 non-null  object \n",
      " 16  Num_Credit_Inquiries      86853 non-null  float64\n",
      " 17  Credit_Mix                88592 non-null  object \n",
      " 18  Outstanding_Debt          88592 non-null  object \n",
      " 19  Credit_Utilization_Ratio  88592 non-null  float64\n",
      " 20  Credit_History_Age        80557 non-null  object \n",
      " 21  Payment_of_Min_Amount     88592 non-null  object \n",
      " 22  Total_EMI_per_month       88592 non-null  float64\n",
      " 23  Amount_invested_monthly   84622 non-null  object \n",
      " 24  Payment_Behaviour         88592 non-null  object \n",
      " 25  Monthly_Balance           87411 non-null  object \n",
      " 26  Credit_Score              88592 non-null  object \n",
      "dtypes: float64(4), int64(4), object(19)\n",
      "memory usage: 18.9+ MB\n"
     ]
    }
   ],
   "source": [
    "df.info()"
   ]
  },
  {
   "cell_type": "code",
   "execution_count": 25,
   "metadata": {},
   "outputs": [
    {
     "data": {
      "text/plain": [
       "0          7\n",
       "1        NaN\n",
       "2          7\n",
       "3          4\n",
       "4        NaN\n",
       "        ... \n",
       "99995      7\n",
       "99996      7\n",
       "99997      6\n",
       "99998    NaN\n",
       "99999      6\n",
       "Name: Num_of_Delayed_Payment, Length: 88592, dtype: object"
      ]
     },
     "execution_count": 25,
     "metadata": {},
     "output_type": "execute_result"
    }
   ],
   "source": [
    "df['Num_of_Delayed_Payment']"
   ]
  },
  {
   "cell_type": "code",
   "execution_count": 26,
   "metadata": {},
   "outputs": [
    {
     "name": "stdout",
     "output_type": "stream",
     "text": [
      "['7' nan '4' '8_' '6' '1' '-1' '3_' '0' '8' '5' '3' '9' '2' '2_' '11' '14'\n",
      " '20' '22' '17' '10' '13' '13_' '14_' '16' '12' '12_' '18' '19' '23' '24'\n",
      " '21' '15' '3318' '3083' '22_' '1338' '26' '11_' '3104' '21_' '25' '183_'\n",
      " '9_' '1106' '834' '19_' '24_' '17_' '23_' '2672' '20_' '4_' '2008' '538'\n",
      " '6_' '10_' '1_' '27' '-2' '3478' '2420' '15_' '707' '708' '26_' '18_'\n",
      " '3815' '28' '5_' '1867' '2250' '16_' '1463' '25_' '-3' '4126' '2882'\n",
      " '1941' '7_' '2655' '132' '3069' '306' '0_' '3539' '3684' '1823' '4128'\n",
      " '1946' '827' '2297' '904' '182' '929' '3568' '2503' '1552' '1697' '3764'\n",
      " '851' '1668' '808' '2689' '3858' '642' '1402' '3154' '3037' '2204' '3103'\n",
      " '1063' '2056' '1282' '1841' '2569_' '211' '793' '3484' '3491' '2072'\n",
      " '3050' '1049' '2162' '3402' '2753' '27_' '1718' '1014' '3260' '3855' '84'\n",
      " '2311' '1832' '3010' '733' '4241' '166' '2461' '1749' '3200' '663_'\n",
      " '2185' '3009' '359' '2015' '1523' '1079' '1199' '186' '1015' '1989' '281'\n",
      " '559' '2165' '1509' '3545' '779' '192' '4311' '-2_' '2323' '1471' '1538'\n",
      " '3529' '439' '3456' '3040' '2697' '3179' '1332' '3175' '3112' '829'\n",
      " '4022' '3870' '4023' '531' '1511' '3092' '3191' '3621' '3536' '1864'\n",
      " '28_' '142' '2300' '72' '497' '398' '2222' '3960' '1473' '3043' '4216'\n",
      " '2903' '2658' '-1_' '4042' '1323_' '2184' '921' '2438' '809' '47' '4164'\n",
      " '1370' '1204' '2167' '4011' '2590' '2533' '1663' '1018' '2919' '3316'\n",
      " '2589' '3355' '2529' '2488' '1243' '739' '845' '4107' '337' '2660' '290'\n",
      " '674' '2450' '3738' '1792' '2812' '2570' '775' '960' '482' '1706' '2493'\n",
      " '3623' '3031' '2794_' '2219_' '758_' '1849' '3559' '4096' '3726' '1953'\n",
      " '2657' '4043' '2938' '3251' '4384' '1647' '2694' '3533' '519' '2677'\n",
      " '-3_' '4139' '2609' '4326' '4211' '823' '1608' '2860' '4219' '4047'\n",
      " '1531' '52' '4024' '1673' '2243' '1685' '2587' '3489' '749' '1164' '2616'\n",
      " '848_' '4134' '1530' '1502' '4075' '3845' '1060' '2573' '328' '2585'\n",
      " '2230' '1534' '3739' '3313' '2628' '4191' '996' '372' '3340' '3177' '602'\n",
      " '787' '4135' '3878' '4059' '1766' '1359' '3107' '585' '1263' '2511' '709'\n",
      " '3632' '2793' '3245' '2317' '1640' '2237_' '252' '847' '3978' '1498'\n",
      " '1833' '2737' '1192' '1481' '271' '2286' '273' '1215' '3944' '2070'\n",
      " '1478' '3749' '871' '2508' '2959' '130' '294' '3097_' '3511' '2196'\n",
      " '2138' '1874' '1553' '3847' '3222' '1222' '2907' '3051' '98' '1598' '416'\n",
      " '2314' '2955' '1691' '1450' '2021' '1636' '80' '3708' '320' '2945' '1911'\n",
      " '3416' '3796' '4159' '2255' '938' '4397' '3776' '2148' '1994' '853'\n",
      " '1178' '1633' '196' '3864' '714' '1687' '1034' '468' '1337' '2044' '1541'\n",
      " '3661' '1211' '2645' '2007' '3162' '3142' '2566_' '2766' '2728' '2671'\n",
      " '1952' '3580' '2705' '4251' '972' '3119' '3502' '4185' '2954' '683'\n",
      " '1614' '1572' '4302' '3447' '1852' '2131' '1900' '1699' '2018' '2127'\n",
      " '508' '210' '577' '1664' '2604' '1411' '2351' '867' '1371' '2352' '905'\n",
      " '4053' '3869' '933' '3660' '3300' '3629' '3208' '2142' '2521' '450' '583'\n",
      " '876' '121' '3919' '2560' '2578' '2060' '813' '4360' '1154' '2544' '4172'\n",
      " '2924' '426' '4270' '2768' '3909' '3951' '2498' '3171' '2569' '265'\n",
      " '4293' '887' '2707' '2397' '4337' '4249' '2751' '2950' '1859' '107'\n",
      " '2348' '2506' '2810' '2873' '2262' '1890' '3078' '3865' '3268' '2777'\n",
      " '3105' '1278' '3793' '2276' '4298' '2141' '223' '2239' '1862' '2756'\n",
      " '1181' '1184' '3972' '2334' '3900' '2759' '2280' '2492' '2729' '3750'\n",
      " '1825' '309' '2431' '3099' '2080' '2279' '3722' '1976' '529' '1985'\n",
      " '3060' '4278' '3212' '46' '3467' '4231' '3790' '473' '1536' '3955' '2324'\n",
      " '2381' '1177' '371' '2896' '3880' '2991' '4319' '1061' '662' '4144' '693'\n",
      " '2006' '3115' '2278_' '3751' '1861' '4262' '2913' '2615' '3492' '3766'\n",
      " '384' '3407' '1087' '3329' '1086' '2216' '1087_' '2457' '3522' '3274'\n",
      " '3488' '2854' '238' '351' '3706' '4280' '4095' '2926' '1329' '3370' '283'\n",
      " '1392' '1743' '2429' '974' '3156' '1133' '4388' '2523' '4281' '3415'\n",
      " '2001' '441' '94' '3499' '969' '3368' '106' '1004' '2638' '2956' '4324'\n",
      " '85' '4113' '819' '615' '2801' '1172' '2553' '3495' '2820' '4239' '4340'\n",
      " '1295_' '2636' '4295' '1653' '1325' '1879' '1735' '3584' '3827' '2552'\n",
      " '3754' '2378' '532' '2376' '3636' '3763' '778' '2621' '804' '754' '2418'\n",
      " '3926' '3861_' '3574' '162' '2834' '2354' '523' '2274' '1606' '1443'\n",
      " '1354' '2142_' '1422' '2278' '4106' '3155' '659' '3229' '1216' '2076'\n",
      " '1473_' '1954' '719' '2534' '4002' '541' '2875' '4344' '2081' '3894'\n",
      " '1256' '676' '4178' '399' '1180' '86' '4037' '1967' '3216' '1150' '2591'\n",
      " '2149' '3721' '1775' '2260' '3707' '4292' '1820' '145' '1480' '1850'\n",
      " '430' '217' '3920_' '1389' '1579' '3391' '2385' '3336' '3392' '3688'\n",
      " '221' '2047']\n"
     ]
    }
   ],
   "source": [
    "print(df['Num_of_Delayed_Payment'].unique())\n"
   ]
  },
  {
   "cell_type": "code",
   "execution_count": 27,
   "metadata": {},
   "outputs": [],
   "source": [
    "df['Num_of_Delayed_Payment'] = df['Num_of_Delayed_Payment'].str.replace('_', '', regex=True)\n"
   ]
  },
  {
   "cell_type": "code",
   "execution_count": 28,
   "metadata": {},
   "outputs": [],
   "source": [
    "df['Num_of_Delayed_Payment'] = df['Num_of_Delayed_Payment'].apply(pd.to_numeric)\n"
   ]
  },
  {
   "cell_type": "code",
   "execution_count": 29,
   "metadata": {},
   "outputs": [
    {
     "name": "stderr",
     "output_type": "stream",
     "text": [
      "C:\\Users\\aryan\\AppData\\Local\\Temp\\ipykernel_12180\\4085790614.py:1: FutureWarning: A value is trying to be set on a copy of a DataFrame or Series through chained assignment using an inplace method.\n",
      "The behavior will change in pandas 3.0. This inplace method will never work because the intermediate object on which we are setting values always behaves as a copy.\n",
      "\n",
      "For example, when doing 'df[col].method(value, inplace=True)', try using 'df.method({col: value}, inplace=True)' or df[col] = df[col].method(value) instead, to perform the operation inplace on the original object.\n",
      "\n",
      "\n",
      "  df['Num_of_Delayed_Payment'].fillna(value=0,inplace=True)\n"
     ]
    }
   ],
   "source": [
    "df['Num_of_Delayed_Payment'].fillna(value=0,inplace=True)"
   ]
  },
  {
   "cell_type": "code",
   "execution_count": 30,
   "metadata": {},
   "outputs": [
    {
     "data": {
      "text/plain": [
       "ID                             0\n",
       "Customer_ID                    0\n",
       "Month                          0\n",
       "Age                            0\n",
       "SSN                            0\n",
       "Occupation                     0\n",
       "Annual_Income                  0\n",
       "Monthly_Inhand_Salary          0\n",
       "Num_Bank_Accounts              0\n",
       "Num_Credit_Card                0\n",
       "Interest_Rate                  0\n",
       "Num_of_Loan                    0\n",
       "Type_of_Loan                   0\n",
       "Delay_from_due_date            0\n",
       "Num_of_Delayed_Payment         0\n",
       "Changed_Credit_Limit           0\n",
       "Num_Credit_Inquiries        1739\n",
       "Credit_Mix                     0\n",
       "Outstanding_Debt               0\n",
       "Credit_Utilization_Ratio       0\n",
       "Credit_History_Age          8035\n",
       "Payment_of_Min_Amount          0\n",
       "Total_EMI_per_month            0\n",
       "Amount_invested_monthly     3970\n",
       "Payment_Behaviour              0\n",
       "Monthly_Balance             1181\n",
       "Credit_Score                   0\n",
       "dtype: int64"
      ]
     },
     "execution_count": 30,
     "metadata": {},
     "output_type": "execute_result"
    }
   ],
   "source": [
    "df.isnull().sum()"
   ]
  },
  {
   "cell_type": "code",
   "execution_count": 31,
   "metadata": {},
   "outputs": [
    {
     "name": "stderr",
     "output_type": "stream",
     "text": [
      "C:\\Users\\aryan\\AppData\\Local\\Temp\\ipykernel_12180\\3137116375.py:1: FutureWarning: A value is trying to be set on a copy of a DataFrame or Series through chained assignment using an inplace method.\n",
      "The behavior will change in pandas 3.0. This inplace method will never work because the intermediate object on which we are setting values always behaves as a copy.\n",
      "\n",
      "For example, when doing 'df[col].method(value, inplace=True)', try using 'df.method({col: value}, inplace=True)' or df[col] = df[col].method(value) instead, to perform the operation inplace on the original object.\n",
      "\n",
      "\n",
      "  df['Num_Credit_Inquiries'].fillna(0,inplace=True)\n"
     ]
    }
   ],
   "source": [
    "df['Num_Credit_Inquiries'].fillna(0,inplace=True)"
   ]
  },
  {
   "cell_type": "code",
   "execution_count": 32,
   "metadata": {},
   "outputs": [
    {
     "data": {
      "text/plain": [
       "0         22 Years and 1 Months\n",
       "1                           NaN\n",
       "2         22 Years and 3 Months\n",
       "3         22 Years and 4 Months\n",
       "4         22 Years and 5 Months\n",
       "                  ...          \n",
       "99995     31 Years and 6 Months\n",
       "99996     31 Years and 7 Months\n",
       "99997     31 Years and 8 Months\n",
       "99998     31 Years and 9 Months\n",
       "99999    31 Years and 10 Months\n",
       "Name: Credit_History_Age, Length: 88592, dtype: object"
      ]
     },
     "execution_count": 32,
     "metadata": {},
     "output_type": "execute_result"
    }
   ],
   "source": [
    "df['Credit_History_Age']"
   ]
  },
  {
   "cell_type": "code",
   "execution_count": 33,
   "metadata": {},
   "outputs": [],
   "source": [
    "df['Credit_History_Age'] = df['Credit_History_Age'].str.extract(r'(\\d+)\\s+Years')[0]"
   ]
  },
  {
   "cell_type": "code",
   "execution_count": 34,
   "metadata": {},
   "outputs": [],
   "source": [
    "df['Credit_History_Age'] = pd.to_numeric(df['Credit_History_Age'], errors='coerce')"
   ]
  },
  {
   "cell_type": "code",
   "execution_count": 35,
   "metadata": {},
   "outputs": [
    {
     "data": {
      "text/plain": [
       "0        22.0\n",
       "1         NaN\n",
       "2        22.0\n",
       "3        22.0\n",
       "4        22.0\n",
       "         ... \n",
       "99995    31.0\n",
       "99996    31.0\n",
       "99997    31.0\n",
       "99998    31.0\n",
       "99999    31.0\n",
       "Name: Credit_History_Age, Length: 88592, dtype: float64"
      ]
     },
     "execution_count": 35,
     "metadata": {},
     "output_type": "execute_result"
    }
   ],
   "source": [
    "df['Credit_History_Age']"
   ]
  },
  {
   "cell_type": "code",
   "execution_count": 36,
   "metadata": {},
   "outputs": [],
   "source": [
    "df['Credit_History_Age'].fillna(value=(int)(df['Credit_History_Age'].median()),inplace=True)\n"
   ]
  },
  {
   "cell_type": "code",
   "execution_count": 37,
   "metadata": {},
   "outputs": [
    {
     "data": {
      "text/plain": [
       "0        22.0\n",
       "1        17.0\n",
       "2        22.0\n",
       "3        22.0\n",
       "4        22.0\n",
       "         ... \n",
       "99995    31.0\n",
       "99996    31.0\n",
       "99997    31.0\n",
       "99998    31.0\n",
       "99999    31.0\n",
       "Name: Credit_History_Age, Length: 88592, dtype: float64"
      ]
     },
     "execution_count": 37,
     "metadata": {},
     "output_type": "execute_result"
    }
   ],
   "source": [
    "df['Credit_History_Age']"
   ]
  },
  {
   "cell_type": "code",
   "execution_count": 38,
   "metadata": {},
   "outputs": [
    {
     "data": {
      "text/plain": [
       "ID                             0\n",
       "Customer_ID                    0\n",
       "Month                          0\n",
       "Age                            0\n",
       "SSN                            0\n",
       "Occupation                     0\n",
       "Annual_Income                  0\n",
       "Monthly_Inhand_Salary          0\n",
       "Num_Bank_Accounts              0\n",
       "Num_Credit_Card                0\n",
       "Interest_Rate                  0\n",
       "Num_of_Loan                    0\n",
       "Type_of_Loan                   0\n",
       "Delay_from_due_date            0\n",
       "Num_of_Delayed_Payment         0\n",
       "Changed_Credit_Limit           0\n",
       "Num_Credit_Inquiries           0\n",
       "Credit_Mix                     0\n",
       "Outstanding_Debt               0\n",
       "Credit_Utilization_Ratio       0\n",
       "Credit_History_Age             0\n",
       "Payment_of_Min_Amount          0\n",
       "Total_EMI_per_month            0\n",
       "Amount_invested_monthly     3970\n",
       "Payment_Behaviour              0\n",
       "Monthly_Balance             1181\n",
       "Credit_Score                   0\n",
       "dtype: int64"
      ]
     },
     "execution_count": 38,
     "metadata": {},
     "output_type": "execute_result"
    }
   ],
   "source": [
    "df.isnull().sum()"
   ]
  },
  {
   "cell_type": "code",
   "execution_count": 39,
   "metadata": {},
   "outputs": [],
   "source": [
    "df['Amount_invested_monthly'] = pd.to_numeric(df['Amount_invested_monthly'], errors='coerce')"
   ]
  },
  {
   "cell_type": "code",
   "execution_count": 40,
   "metadata": {},
   "outputs": [
    {
     "name": "stderr",
     "output_type": "stream",
     "text": [
      "C:\\Users\\aryan\\AppData\\Local\\Temp\\ipykernel_12180\\2846917832.py:1: FutureWarning: A value is trying to be set on a copy of a DataFrame or Series through chained assignment using an inplace method.\n",
      "The behavior will change in pandas 3.0. This inplace method will never work because the intermediate object on which we are setting values always behaves as a copy.\n",
      "\n",
      "For example, when doing 'df[col].method(value, inplace=True)', try using 'df.method({col: value}, inplace=True)' or df[col] = df[col].method(value) instead, to perform the operation inplace on the original object.\n",
      "\n",
      "\n",
      "  df['Amount_invested_monthly'].fillna(df['Amount_invested_monthly'].mean(),inplace=True)\n"
     ]
    }
   ],
   "source": [
    "df['Amount_invested_monthly'].fillna(df['Amount_invested_monthly'].mean(),inplace=True)"
   ]
  },
  {
   "cell_type": "code",
   "execution_count": 41,
   "metadata": {},
   "outputs": [],
   "source": [
    "df['Monthly_Balance'] = pd.to_numeric(df['Monthly_Balance'], errors='coerce')"
   ]
  },
  {
   "cell_type": "code",
   "execution_count": 42,
   "metadata": {},
   "outputs": [
    {
     "name": "stderr",
     "output_type": "stream",
     "text": [
      "C:\\Users\\aryan\\AppData\\Local\\Temp\\ipykernel_12180\\780442020.py:1: FutureWarning: A value is trying to be set on a copy of a DataFrame or Series through chained assignment using an inplace method.\n",
      "The behavior will change in pandas 3.0. This inplace method will never work because the intermediate object on which we are setting values always behaves as a copy.\n",
      "\n",
      "For example, when doing 'df[col].method(value, inplace=True)', try using 'df.method({col: value}, inplace=True)' or df[col] = df[col].method(value) instead, to perform the operation inplace on the original object.\n",
      "\n",
      "\n",
      "  df['Monthly_Balance'].fillna(df['Monthly_Balance'].mean(),inplace=True)\n"
     ]
    }
   ],
   "source": [
    "df['Monthly_Balance'].fillna(df['Monthly_Balance'].mean(),inplace=True)"
   ]
  },
  {
   "cell_type": "code",
   "execution_count": 43,
   "metadata": {},
   "outputs": [
    {
     "data": {
      "text/plain": [
       "ID                          0\n",
       "Customer_ID                 0\n",
       "Month                       0\n",
       "Age                         0\n",
       "SSN                         0\n",
       "Occupation                  0\n",
       "Annual_Income               0\n",
       "Monthly_Inhand_Salary       0\n",
       "Num_Bank_Accounts           0\n",
       "Num_Credit_Card             0\n",
       "Interest_Rate               0\n",
       "Num_of_Loan                 0\n",
       "Type_of_Loan                0\n",
       "Delay_from_due_date         0\n",
       "Num_of_Delayed_Payment      0\n",
       "Changed_Credit_Limit        0\n",
       "Num_Credit_Inquiries        0\n",
       "Credit_Mix                  0\n",
       "Outstanding_Debt            0\n",
       "Credit_Utilization_Ratio    0\n",
       "Credit_History_Age          0\n",
       "Payment_of_Min_Amount       0\n",
       "Total_EMI_per_month         0\n",
       "Amount_invested_monthly     0\n",
       "Payment_Behaviour           0\n",
       "Monthly_Balance             0\n",
       "Credit_Score                0\n",
       "dtype: int64"
      ]
     },
     "execution_count": 43,
     "metadata": {},
     "output_type": "execute_result"
    }
   ],
   "source": [
    "df.isnull().sum()"
   ]
  },
  {
   "cell_type": "code",
   "execution_count": 44,
   "metadata": {},
   "outputs": [
    {
     "name": "stdout",
     "output_type": "stream",
     "text": [
      "<class 'pandas.core.frame.DataFrame'>\n",
      "Index: 88592 entries, 0 to 99999\n",
      "Data columns (total 27 columns):\n",
      " #   Column                    Non-Null Count  Dtype  \n",
      "---  ------                    --------------  -----  \n",
      " 0   ID                        88592 non-null  object \n",
      " 1   Customer_ID               88592 non-null  object \n",
      " 2   Month                     88592 non-null  object \n",
      " 3   Age                       88592 non-null  object \n",
      " 4   SSN                       88592 non-null  object \n",
      " 5   Occupation                88592 non-null  object \n",
      " 6   Annual_Income             88592 non-null  object \n",
      " 7   Monthly_Inhand_Salary     88592 non-null  float64\n",
      " 8   Num_Bank_Accounts         88592 non-null  int64  \n",
      " 9   Num_Credit_Card           88592 non-null  int64  \n",
      " 10  Interest_Rate             88592 non-null  int64  \n",
      " 11  Num_of_Loan               88592 non-null  object \n",
      " 12  Type_of_Loan              88592 non-null  object \n",
      " 13  Delay_from_due_date       88592 non-null  int64  \n",
      " 14  Num_of_Delayed_Payment    88592 non-null  float64\n",
      " 15  Changed_Credit_Limit      88592 non-null  object \n",
      " 16  Num_Credit_Inquiries      88592 non-null  float64\n",
      " 17  Credit_Mix                88592 non-null  object \n",
      " 18  Outstanding_Debt          88592 non-null  object \n",
      " 19  Credit_Utilization_Ratio  88592 non-null  float64\n",
      " 20  Credit_History_Age        88592 non-null  float64\n",
      " 21  Payment_of_Min_Amount     88592 non-null  object \n",
      " 22  Total_EMI_per_month       88592 non-null  float64\n",
      " 23  Amount_invested_monthly   88592 non-null  float64\n",
      " 24  Payment_Behaviour         88592 non-null  object \n",
      " 25  Monthly_Balance           88592 non-null  float64\n",
      " 26  Credit_Score              88592 non-null  object \n",
      "dtypes: float64(8), int64(4), object(15)\n",
      "memory usage: 18.9+ MB\n"
     ]
    }
   ],
   "source": [
    "df.info()"
   ]
  },
  {
   "cell_type": "code",
   "execution_count": 45,
   "metadata": {},
   "outputs": [
    {
     "data": {
      "text/plain": [
       "array(['Scientist', '_______', 'Teacher', 'Engineer', 'Entrepreneur',\n",
       "       'Lawyer', 'Media_Manager', 'Doctor', 'Journalist', 'Manager',\n",
       "       'Mechanic', 'Writer', 'Accountant', 'Architect', 'Musician',\n",
       "       'Developer'], dtype=object)"
      ]
     },
     "execution_count": 45,
     "metadata": {},
     "output_type": "execute_result"
    }
   ],
   "source": [
    "df['Occupation'].unique()"
   ]
  },
  {
   "cell_type": "code",
   "execution_count": 46,
   "metadata": {},
   "outputs": [
    {
     "data": {
      "text/plain": [
       "Occupation\n",
       "_______          6197\n",
       "Lawyer           5933\n",
       "Mechanic         5680\n",
       "Architect        5643\n",
       "Engineer         5596\n",
       "Scientist        5587\n",
       "Entrepreneur     5566\n",
       "Doctor           5553\n",
       "Accountant       5498\n",
       "Teacher          5498\n",
       "Media_Manager    5494\n",
       "Developer        5487\n",
       "Manager          5227\n",
       "Writer           5227\n",
       "Journalist       5214\n",
       "Musician         5192\n",
       "Name: count, dtype: int64"
      ]
     },
     "execution_count": 46,
     "metadata": {},
     "output_type": "execute_result"
    }
   ],
   "source": [
    "df['Occupation'].value_counts()"
   ]
  },
  {
   "cell_type": "code",
   "execution_count": 47,
   "metadata": {},
   "outputs": [],
   "source": [
    "df['Occupation'] = df['Occupation'].str.replace('_______','Others', regex=True)"
   ]
  },
  {
   "cell_type": "code",
   "execution_count": 48,
   "metadata": {},
   "outputs": [
    {
     "data": {
      "text/plain": [
       "array(['Scientist', 'Others', 'Teacher', 'Engineer', 'Entrepreneur',\n",
       "       'Lawyer', 'Media_Manager', 'Doctor', 'Journalist', 'Manager',\n",
       "       'Mechanic', 'Writer', 'Accountant', 'Architect', 'Musician',\n",
       "       'Developer'], dtype=object)"
      ]
     },
     "execution_count": 48,
     "metadata": {},
     "output_type": "execute_result"
    }
   ],
   "source": [
    "df['Occupation'].unique()"
   ]
  },
  {
   "cell_type": "code",
   "execution_count": 49,
   "metadata": {},
   "outputs": [
    {
     "data": {
      "text/plain": [
       "<Axes: xlabel='Month', ylabel='Credit_Score'>"
      ]
     },
     "execution_count": 49,
     "metadata": {},
     "output_type": "execute_result"
    },
    {
     "data": {
      "image/png": "[encoded data removed]",
      "text/plain": [
       "<Figure size 640x480 with 1 Axes>"
      ]
     },
     "metadata": {},
     "output_type": "display_data"
    }
   ],
   "source": [
    "sns.scatterplot(x=df['Month'],y=df['Credit_Score'])"
   ]
  },
  {
   "cell_type": "code",
   "execution_count": 50,
   "metadata": {},
   "outputs": [
    {
     "data": {
      "text/plain": [
       "<Axes: xlabel='Occupation', ylabel='Credit_Score'>"
      ]
     },
     "execution_count": 50,
     "metadata": {},
     "output_type": "execute_result"
    },
    {
     "data": {
      "image/png": "[encoded data removed]",
      "text/plain": [
       "<Figure size 640x480 with 1 Axes>"
      ]
     },
     "metadata": {},
     "output_type": "display_data"
    }
   ],
   "source": [
    "sns.scatterplot(x=df['Occupation'],y=df['Credit_Score'])"
   ]
  },
  {
   "cell_type": "code",
   "execution_count": 51,
   "metadata": {},
   "outputs": [
    {
     "data": {
      "text/plain": [
       "<Axes: >"
      ]
     },
     "execution_count": 51,
     "metadata": {},
     "output_type": "execute_result"
    },
    {
     "data": {
      "image/png": "[encoded data removed]",
      "text/plain": [
       "<Figure size 640x480 with 1 Axes>"
      ]
     },
     "metadata": {},
     "output_type": "display_data"
    }
   ],
   "source": [
    "sns.boxplot(df, orient='h')"
   ]
  },
  {
   "cell_type": "code",
   "execution_count": 52,
   "metadata": {},
   "outputs": [
    {
     "data": {
      "text/plain": [
       "<Axes: xlabel='Monthly_Inhand_Salary', ylabel='Credit_Score'>"
      ]
     },
     "execution_count": 52,
     "metadata": {},
     "output_type": "execute_result"
    },
    {
     "data": {
      "image/png": "[encoded data removed]",
      "text/plain": [
       "<Figure size 640x480 with 1 Axes>"
      ]
     },
     "metadata": {},
     "output_type": "display_data"
    }
   ],
   "source": [
    "sns.scatterplot(x=df['Monthly_Inhand_Salary'],y=df['Credit_Score'])"
   ]
  },
  {
   "cell_type": "code",
   "execution_count": 53,
   "metadata": {},
   "outputs": [
    {
     "data": {
      "text/plain": [
       "0         High_spent_Small_value_payments\n",
       "1          Low_spent_Large_value_payments\n",
       "2         Low_spent_Medium_value_payments\n",
       "3          Low_spent_Small_value_payments\n",
       "4        High_spent_Medium_value_payments\n",
       "                       ...               \n",
       "99995     High_spent_Large_value_payments\n",
       "99996    High_spent_Medium_value_payments\n",
       "99997     High_spent_Large_value_payments\n",
       "99998      Low_spent_Large_value_payments\n",
       "99999                              !@9#%8\n",
       "Name: Payment_Behaviour, Length: 88592, dtype: object"
      ]
     },
     "execution_count": 53,
     "metadata": {},
     "output_type": "execute_result"
    }
   ],
   "source": [
    "df['Payment_Behaviour']"
   ]
  },
  {
   "cell_type": "code",
   "execution_count": 54,
   "metadata": {},
   "outputs": [
    {
     "data": {
      "text/plain": [
       "<Axes: xlabel='Payment_Behaviour', ylabel='Credit_Score'>"
      ]
     },
     "execution_count": 54,
     "metadata": {},
     "output_type": "execute_result"
    },
    {
     "data": {
      "image/png": "[encoded data removed]",
      "text/plain": [
       "<Figure size 640x480 with 1 Axes>"
      ]
     },
     "metadata": {},
     "output_type": "display_data"
    }
   ],
   "source": [
    "sns.scatterplot(x=df['Payment_Behaviour'],y=df['Credit_Score'])"
   ]
  },
  {
   "cell_type": "code",
   "execution_count": 55,
   "metadata": {},
   "outputs": [
    {
     "data": {
      "text/plain": [
       "array(['Good', 'Standard', 'Poor'], dtype=object)"
      ]
     },
     "execution_count": 55,
     "metadata": {},
     "output_type": "execute_result"
    }
   ],
   "source": [
    "df['Credit_Score'].unique()"
   ]
  },
  {
   "cell_type": "code",
   "execution_count": 56,
   "metadata": {},
   "outputs": [
    {
     "name": "stderr",
     "output_type": "stream",
     "text": [
      "C:\\Users\\aryan\\AppData\\Local\\Temp\\ipykernel_12180\\3358528146.py:6: FutureWarning: Downcasting behavior in `replace` is deprecated and will be removed in a future version. To retain the old behavior, explicitly call `result.infer_objects(copy=False)`. To opt-in to the future behavior, set `pd.set_option('future.no_silent_downcasting', True)`\n",
      "  df['Credit_Score'] = df['Credit_Score'].replace(values)\n"
     ]
    }
   ],
   "source": [
    "values = {\n",
    "    'Good':2,\n",
    "    'Standard':1,\n",
    "    'Poor':0\n",
    "}\n",
    "df['Credit_Score'] = df['Credit_Score'].replace(values)"
   ]
  },
  {
   "cell_type": "code",
   "execution_count": 57,
   "metadata": {},
   "outputs": [
    {
     "data": {
      "text/plain": [
       "array([2, 1, 0])"
      ]
     },
     "execution_count": 57,
     "metadata": {},
     "output_type": "execute_result"
    }
   ],
   "source": [
    "df['Credit_Score'].unique()"
   ]
  },
  {
   "cell_type": "code",
   "execution_count": 58,
   "metadata": {},
   "outputs": [
    {
     "data": {
      "text/plain": [
       "Index(['ID', 'Customer_ID', 'Month', 'Age', 'SSN', 'Occupation',\n",
       "       'Annual_Income', 'Monthly_Inhand_Salary', 'Num_Bank_Accounts',\n",
       "       'Num_Credit_Card', 'Interest_Rate', 'Num_of_Loan', 'Type_of_Loan',\n",
       "       'Delay_from_due_date', 'Num_of_Delayed_Payment', 'Changed_Credit_Limit',\n",
       "       'Num_Credit_Inquiries', 'Credit_Mix', 'Outstanding_Debt',\n",
       "       'Credit_Utilization_Ratio', 'Credit_History_Age',\n",
       "       'Payment_of_Min_Amount', 'Total_EMI_per_month',\n",
       "       'Amount_invested_monthly', 'Payment_Behaviour', 'Monthly_Balance',\n",
       "       'Credit_Score'],\n",
       "      dtype='object')"
      ]
     },
     "execution_count": 58,
     "metadata": {},
     "output_type": "execute_result"
    }
   ],
   "source": [
    "df.columns"
   ]
  },
  {
   "cell_type": "code",
   "execution_count": 59,
   "metadata": {},
   "outputs": [],
   "source": [
    "x = df[[ 'Age',\n",
    "       'Annual_Income', 'Monthly_Inhand_Salary', 'Credit_History_Age',\n",
    "       'Total_EMI_per_month', 'Num_Bank_Accounts', 'Num_Credit_Card',\n",
    "       'Interest_Rate', 'Num_of_Loan', 'Delay_from_due_date',\n",
    "       'Num_of_Delayed_Payment', 'Changed_Credit_Limit',\n",
    "       'Num_Credit_Inquiries', 'Outstanding_Debt',\n",
    "       'Credit_Utilization_Ratio',\n",
    "       'Amount_invested_monthly',  'Monthly_Balance']]\n",
    "y = df.iloc[:, -1]"
   ]
  },
  {
   "cell_type": "code",
   "execution_count": 60,
   "metadata": {},
   "outputs": [
    {
     "data": {
      "text/html": [
       "<div>\n",
       "<style scoped>\n",
       "    .dataframe tbody tr th:only-of-type {\n",
       "        vertical-align: middle;\n",
       "    }\n",
       "\n",
       "    .dataframe tbody tr th {\n",
       "        vertical-align: top;\n",
       "    }\n",
       "\n",
       "    .dataframe thead th {\n",
       "        text-align: right;\n",
       "    }\n",
       "</style>\n",
       "<table border=\"1\" class=\"dataframe\">\n",
       "  <thead>\n",
       "    <tr style=\"text-align: right;\">\n",
       "      <th></th>\n",
       "      <th>Age</th>\n",
       "      <th>Annual_Income</th>\n",
       "      <th>Monthly_Inhand_Salary</th>\n",
       "      <th>Credit_History_Age</th>\n",
       "      <th>Total_EMI_per_month</th>\n",
       "      <th>Num_Bank_Accounts</th>\n",
       "      <th>Num_Credit_Card</th>\n",
       "      <th>Interest_Rate</th>\n",
       "      <th>Num_of_Loan</th>\n",
       "      <th>Delay_from_due_date</th>\n",
       "      <th>Num_of_Delayed_Payment</th>\n",
       "      <th>Changed_Credit_Limit</th>\n",
       "      <th>Num_Credit_Inquiries</th>\n",
       "      <th>Outstanding_Debt</th>\n",
       "      <th>Credit_Utilization_Ratio</th>\n",
       "      <th>Amount_invested_monthly</th>\n",
       "      <th>Monthly_Balance</th>\n",
       "    </tr>\n",
       "  </thead>\n",
       "  <tbody>\n",
       "    <tr>\n",
       "      <th>0</th>\n",
       "      <td>23</td>\n",
       "      <td>19114.12</td>\n",
       "      <td>1824.843333</td>\n",
       "      <td>22.0</td>\n",
       "      <td>49.574949</td>\n",
       "      <td>3</td>\n",
       "      <td>4</td>\n",
       "      <td>3</td>\n",
       "      <td>4</td>\n",
       "      <td>3</td>\n",
       "      <td>7.0</td>\n",
       "      <td>11.27</td>\n",
       "      <td>4.0</td>\n",
       "      <td>809.98</td>\n",
       "      <td>26.822620</td>\n",
       "      <td>80.415295</td>\n",
       "      <td>312.494089</td>\n",
       "    </tr>\n",
       "    <tr>\n",
       "      <th>1</th>\n",
       "      <td>23</td>\n",
       "      <td>19114.12</td>\n",
       "      <td>4065.596629</td>\n",
       "      <td>17.0</td>\n",
       "      <td>49.574949</td>\n",
       "      <td>3</td>\n",
       "      <td>4</td>\n",
       "      <td>3</td>\n",
       "      <td>4</td>\n",
       "      <td>-1</td>\n",
       "      <td>0.0</td>\n",
       "      <td>11.27</td>\n",
       "      <td>4.0</td>\n",
       "      <td>809.98</td>\n",
       "      <td>31.944960</td>\n",
       "      <td>118.280222</td>\n",
       "      <td>284.629162</td>\n",
       "    </tr>\n",
       "    <tr>\n",
       "      <th>2</th>\n",
       "      <td>-500</td>\n",
       "      <td>19114.12</td>\n",
       "      <td>4065.596629</td>\n",
       "      <td>22.0</td>\n",
       "      <td>49.574949</td>\n",
       "      <td>3</td>\n",
       "      <td>4</td>\n",
       "      <td>3</td>\n",
       "      <td>4</td>\n",
       "      <td>3</td>\n",
       "      <td>7.0</td>\n",
       "      <td>_</td>\n",
       "      <td>4.0</td>\n",
       "      <td>809.98</td>\n",
       "      <td>28.609352</td>\n",
       "      <td>81.699521</td>\n",
       "      <td>331.209863</td>\n",
       "    </tr>\n",
       "    <tr>\n",
       "      <th>3</th>\n",
       "      <td>23</td>\n",
       "      <td>19114.12</td>\n",
       "      <td>4065.596629</td>\n",
       "      <td>22.0</td>\n",
       "      <td>49.574949</td>\n",
       "      <td>3</td>\n",
       "      <td>4</td>\n",
       "      <td>3</td>\n",
       "      <td>4</td>\n",
       "      <td>5</td>\n",
       "      <td>4.0</td>\n",
       "      <td>6.27</td>\n",
       "      <td>4.0</td>\n",
       "      <td>809.98</td>\n",
       "      <td>31.377862</td>\n",
       "      <td>199.458074</td>\n",
       "      <td>223.451310</td>\n",
       "    </tr>\n",
       "    <tr>\n",
       "      <th>4</th>\n",
       "      <td>23</td>\n",
       "      <td>19114.12</td>\n",
       "      <td>1824.843333</td>\n",
       "      <td>22.0</td>\n",
       "      <td>49.574949</td>\n",
       "      <td>3</td>\n",
       "      <td>4</td>\n",
       "      <td>3</td>\n",
       "      <td>4</td>\n",
       "      <td>6</td>\n",
       "      <td>0.0</td>\n",
       "      <td>11.27</td>\n",
       "      <td>4.0</td>\n",
       "      <td>809.98</td>\n",
       "      <td>24.797347</td>\n",
       "      <td>41.420153</td>\n",
       "      <td>341.489231</td>\n",
       "    </tr>\n",
       "  </tbody>\n",
       "</table>\n",
       "</div>"
      ],
      "text/plain": [
       "    Age Annual_Income  Monthly_Inhand_Salary  Credit_History_Age  \\\n",
       "0    23      19114.12            1824.843333                22.0   \n",
       "1    23      19114.12            4065.596629                17.0   \n",
       "2  -500      19114.12            4065.596629                22.0   \n",
       "3    23      19114.12            4065.596629                22.0   \n",
       "4    23      19114.12            1824.843333                22.0   \n",
       "\n",
       "   Total_EMI_per_month  Num_Bank_Accounts  Num_Credit_Card  Interest_Rate  \\\n",
       "0            49.574949                  3                4              3   \n",
       "1            49.574949                  3                4              3   \n",
       "2            49.574949                  3                4              3   \n",
       "3            49.574949                  3                4              3   \n",
       "4            49.574949                  3                4              3   \n",
       "\n",
       "  Num_of_Loan  Delay_from_due_date  Num_of_Delayed_Payment  \\\n",
       "0           4                    3                     7.0   \n",
       "1           4                   -1                     0.0   \n",
       "2           4                    3                     7.0   \n",
       "3           4                    5                     4.0   \n",
       "4           4                    6                     0.0   \n",
       "\n",
       "  Changed_Credit_Limit  Num_Credit_Inquiries Outstanding_Debt  \\\n",
       "0                11.27                   4.0           809.98   \n",
       "1                11.27                   4.0           809.98   \n",
       "2                    _                   4.0           809.98   \n",
       "3                 6.27                   4.0           809.98   \n",
       "4                11.27                   4.0           809.98   \n",
       "\n",
       "   Credit_Utilization_Ratio  Amount_invested_monthly  Monthly_Balance  \n",
       "0                 26.822620                80.415295       312.494089  \n",
       "1                 31.944960               118.280222       284.629162  \n",
       "2                 28.609352                81.699521       331.209863  \n",
       "3                 31.377862               199.458074       223.451310  \n",
       "4                 24.797347                41.420153       341.489231  "
      ]
     },
     "execution_count": 60,
     "metadata": {},
     "output_type": "execute_result"
    }
   ],
   "source": [
    "x.head()"
   ]
  },
  {
   "cell_type": "code",
   "execution_count": 61,
   "metadata": {},
   "outputs": [
    {
     "data": {
      "text/plain": [
       "0        2\n",
       "1        2\n",
       "2        2\n",
       "3        2\n",
       "4        2\n",
       "        ..\n",
       "99995    0\n",
       "99996    0\n",
       "99997    0\n",
       "99998    1\n",
       "99999    0\n",
       "Name: Credit_Score, Length: 88592, dtype: int64"
      ]
     },
     "execution_count": 61,
     "metadata": {},
     "output_type": "execute_result"
    }
   ],
   "source": [
    "y"
   ]
  },
  {
   "cell_type": "code",
   "execution_count": 62,
   "metadata": {},
   "outputs": [],
   "source": [
    "from sklearn.model_selection import train_test_split\n",
    "x_train,x_test,y_train,y_test = train_test_split(x,y, test_size=0.2,random_state=42) "
   ]
  },
  {
   "cell_type": "code",
   "execution_count": 63,
   "metadata": {},
   "outputs": [
    {
     "name": "stdout",
     "output_type": "stream",
     "text": [
      "<class 'pandas.core.frame.DataFrame'>\n",
      "Index: 88592 entries, 0 to 99999\n",
      "Data columns (total 27 columns):\n",
      " #   Column                    Non-Null Count  Dtype  \n",
      "---  ------                    --------------  -----  \n",
      " 0   ID                        88592 non-null  object \n",
      " 1   Customer_ID               88592 non-null  object \n",
      " 2   Month                     88592 non-null  object \n",
      " 3   Age                       88592 non-null  object \n",
      " 4   SSN                       88592 non-null  object \n",
      " 5   Occupation                88592 non-null  object \n",
      " 6   Annual_Income             88592 non-null  object \n",
      " 7   Monthly_Inhand_Salary     88592 non-null  float64\n",
      " 8   Num_Bank_Accounts         88592 non-null  int64  \n",
      " 9   Num_Credit_Card           88592 non-null  int64  \n",
      " 10  Interest_Rate             88592 non-null  int64  \n",
      " 11  Num_of_Loan               88592 non-null  object \n",
      " 12  Type_of_Loan              88592 non-null  object \n",
      " 13  Delay_from_due_date       88592 non-null  int64  \n",
      " 14  Num_of_Delayed_Payment    88592 non-null  float64\n",
      " 15  Changed_Credit_Limit      88592 non-null  object \n",
      " 16  Num_Credit_Inquiries      88592 non-null  float64\n",
      " 17  Credit_Mix                88592 non-null  object \n",
      " 18  Outstanding_Debt          88592 non-null  object \n",
      " 19  Credit_Utilization_Ratio  88592 non-null  float64\n",
      " 20  Credit_History_Age        88592 non-null  float64\n",
      " 21  Payment_of_Min_Amount     88592 non-null  object \n",
      " 22  Total_EMI_per_month       88592 non-null  float64\n",
      " 23  Amount_invested_monthly   88592 non-null  float64\n",
      " 24  Payment_Behaviour         88592 non-null  object \n",
      " 25  Monthly_Balance           88592 non-null  float64\n",
      " 26  Credit_Score              88592 non-null  int64  \n",
      "dtypes: float64(8), int64(5), object(14)\n",
      "memory usage: 18.9+ MB\n"
     ]
    }
   ],
   "source": [
    "df.info()"
   ]
  },
  {
   "cell_type": "code",
   "execution_count": 64,
   "metadata": {},
   "outputs": [
    {
     "data": {
      "text/plain": [
       "Index(['ID', 'Customer_ID', 'Month', 'Age', 'SSN', 'Occupation',\n",
       "       'Annual_Income', 'Monthly_Inhand_Salary', 'Num_Bank_Accounts',\n",
       "       'Num_Credit_Card', 'Interest_Rate', 'Num_of_Loan', 'Type_of_Loan',\n",
       "       'Delay_from_due_date', 'Num_of_Delayed_Payment', 'Changed_Credit_Limit',\n",
       "       'Num_Credit_Inquiries', 'Credit_Mix', 'Outstanding_Debt',\n",
       "       'Credit_Utilization_Ratio', 'Credit_History_Age',\n",
       "       'Payment_of_Min_Amount', 'Total_EMI_per_month',\n",
       "       'Amount_invested_monthly', 'Payment_Behaviour', 'Monthly_Balance',\n",
       "       'Credit_Score'],\n",
       "      dtype='object')"
      ]
     },
     "execution_count": 64,
     "metadata": {},
     "output_type": "execute_result"
    }
   ],
   "source": [
    "df.columns"
   ]
  },
  {
   "cell_type": "code",
   "execution_count": 65,
   "metadata": {},
   "outputs": [],
   "source": [
    "# Replace non-numeric values with NaN\n",
    "x_train = x_train.apply(pd.to_numeric, errors='coerce')\n",
    "\n",
    "# Drop rows with NaN values\n",
    "x_train = x_train.dropna()"
   ]
  },
  {
   "cell_type": "code",
   "execution_count": 66,
   "metadata": {},
   "outputs": [],
   "source": [
    "from sklearn.preprocessing import LabelEncoder\n",
    "\n",
    "label_encoder = LabelEncoder()\n",
    "for column in x_train.select_dtypes(include=['object']).columns:\n",
    "    x_train[column] = label_encoder.fit_transform(x_train[column])\n"
   ]
  },
  {
   "cell_type": "code",
   "execution_count": 67,
   "metadata": {},
   "outputs": [],
   "source": [
    "y_train = label_encoder.fit_transform(y_train)\n"
   ]
  },
  {
   "cell_type": "code",
   "execution_count": 69,
   "metadata": {},
   "outputs": [],
   "source": [
    "from sklearn.neighbors import KNeighborsClassifier"
   ]
  },
  {
   "cell_type": "code",
   "execution_count": 70,
   "metadata": {},
   "outputs": [],
   "source": [
    "mode_knn = KNeighborsClassifier(n_neighbors=5)"
   ]
  },
  {
   "cell_type": "code",
   "execution_count": null,
   "metadata": {},
   "outputs": [],
   "source": []
  }
 ],
 "metadata": {
  "kernelspec": {
   "display_name": "Python 3",
   "language": "python",
   "name": "python3"
  },
  "language_info": {
   "codemirror_mode": {
    "name": "ipython",
    "version": 3
   },
   "file_extension": ".py",
   "mimetype": "text/x-python",
   "name": "python",
   "nbconvert_exporter": "python",
   "pygments_lexer": "ipython3",
   "version": "3.12.3"
  }
 },
 "nbformat": 4,
 "nbformat_minor": 2
}
